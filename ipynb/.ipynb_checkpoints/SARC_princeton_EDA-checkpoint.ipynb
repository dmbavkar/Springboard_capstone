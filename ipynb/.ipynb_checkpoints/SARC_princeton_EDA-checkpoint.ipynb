{
 "cells": [
  {
   "cell_type": "code",
   "execution_count": 1,
   "metadata": {},
   "outputs": [],
   "source": [
    "import pandas as pd"
   ]
  },
  {
   "cell_type": "markdown",
   "metadata": {},
   "source": [
    "## Explore test-balanced.csv"
   ]
  },
  {
   "cell_type": "code",
   "execution_count": 4,
   "metadata": {},
   "outputs": [
    {
     "ename": "FileNotFoundError",
     "evalue": "[Errno 2] File b'..\\\\data\\test-balanced.csv' does not exist: b'..\\\\data\\test-balanced.csv'",
     "output_type": "error",
     "traceback": [
      "\u001b[1;31m---------------------------------------------------------------------------\u001b[0m",
      "\u001b[1;31mFileNotFoundError\u001b[0m                         Traceback (most recent call last)",
      "\u001b[1;32m<ipython-input-4-514a481916dc>\u001b[0m in \u001b[0;36m<module>\u001b[1;34m\u001b[0m\n\u001b[0;32m      3\u001b[0m                  \u001b[0mheader\u001b[0m\u001b[1;33m=\u001b[0m\u001b[1;32mNone\u001b[0m\u001b[1;33m,\u001b[0m\u001b[1;33m\u001b[0m\u001b[1;33m\u001b[0m\u001b[0m\n\u001b[0;32m      4\u001b[0m                  names=['label','comment','author','subreddit','score',\n\u001b[1;32m----> 5\u001b[1;33m                         'ups','downs','date','created_utc','parent_comment'])\n\u001b[0m",
      "\u001b[1;32m~\\Anaconda3\\lib\\site-packages\\pandas\\io\\parsers.py\u001b[0m in \u001b[0;36mparser_f\u001b[1;34m(filepath_or_buffer, sep, delimiter, header, names, index_col, usecols, squeeze, prefix, mangle_dupe_cols, dtype, engine, converters, true_values, false_values, skipinitialspace, skiprows, skipfooter, nrows, na_values, keep_default_na, na_filter, verbose, skip_blank_lines, parse_dates, infer_datetime_format, keep_date_col, date_parser, dayfirst, iterator, chunksize, compression, thousands, decimal, lineterminator, quotechar, quoting, doublequote, escapechar, comment, encoding, dialect, tupleize_cols, error_bad_lines, warn_bad_lines, delim_whitespace, low_memory, memory_map, float_precision)\u001b[0m\n\u001b[0;32m    700\u001b[0m                     skip_blank_lines=skip_blank_lines)\n\u001b[0;32m    701\u001b[0m \u001b[1;33m\u001b[0m\u001b[0m\n\u001b[1;32m--> 702\u001b[1;33m         \u001b[1;32mreturn\u001b[0m \u001b[0m_read\u001b[0m\u001b[1;33m(\u001b[0m\u001b[0mfilepath_or_buffer\u001b[0m\u001b[1;33m,\u001b[0m \u001b[0mkwds\u001b[0m\u001b[1;33m)\u001b[0m\u001b[1;33m\u001b[0m\u001b[1;33m\u001b[0m\u001b[0m\n\u001b[0m\u001b[0;32m    703\u001b[0m \u001b[1;33m\u001b[0m\u001b[0m\n\u001b[0;32m    704\u001b[0m     \u001b[0mparser_f\u001b[0m\u001b[1;33m.\u001b[0m\u001b[0m__name__\u001b[0m \u001b[1;33m=\u001b[0m \u001b[0mname\u001b[0m\u001b[1;33m\u001b[0m\u001b[1;33m\u001b[0m\u001b[0m\n",
      "\u001b[1;32m~\\Anaconda3\\lib\\site-packages\\pandas\\io\\parsers.py\u001b[0m in \u001b[0;36m_read\u001b[1;34m(filepath_or_buffer, kwds)\u001b[0m\n\u001b[0;32m    427\u001b[0m \u001b[1;33m\u001b[0m\u001b[0m\n\u001b[0;32m    428\u001b[0m     \u001b[1;31m# Create the parser.\u001b[0m\u001b[1;33m\u001b[0m\u001b[1;33m\u001b[0m\u001b[1;33m\u001b[0m\u001b[0m\n\u001b[1;32m--> 429\u001b[1;33m     \u001b[0mparser\u001b[0m \u001b[1;33m=\u001b[0m \u001b[0mTextFileReader\u001b[0m\u001b[1;33m(\u001b[0m\u001b[0mfilepath_or_buffer\u001b[0m\u001b[1;33m,\u001b[0m \u001b[1;33m**\u001b[0m\u001b[0mkwds\u001b[0m\u001b[1;33m)\u001b[0m\u001b[1;33m\u001b[0m\u001b[1;33m\u001b[0m\u001b[0m\n\u001b[0m\u001b[0;32m    430\u001b[0m \u001b[1;33m\u001b[0m\u001b[0m\n\u001b[0;32m    431\u001b[0m     \u001b[1;32mif\u001b[0m \u001b[0mchunksize\u001b[0m \u001b[1;32mor\u001b[0m \u001b[0miterator\u001b[0m\u001b[1;33m:\u001b[0m\u001b[1;33m\u001b[0m\u001b[1;33m\u001b[0m\u001b[0m\n",
      "\u001b[1;32m~\\Anaconda3\\lib\\site-packages\\pandas\\io\\parsers.py\u001b[0m in \u001b[0;36m__init__\u001b[1;34m(self, f, engine, **kwds)\u001b[0m\n\u001b[0;32m    893\u001b[0m             \u001b[0mself\u001b[0m\u001b[1;33m.\u001b[0m\u001b[0moptions\u001b[0m\u001b[1;33m[\u001b[0m\u001b[1;34m'has_index_names'\u001b[0m\u001b[1;33m]\u001b[0m \u001b[1;33m=\u001b[0m \u001b[0mkwds\u001b[0m\u001b[1;33m[\u001b[0m\u001b[1;34m'has_index_names'\u001b[0m\u001b[1;33m]\u001b[0m\u001b[1;33m\u001b[0m\u001b[1;33m\u001b[0m\u001b[0m\n\u001b[0;32m    894\u001b[0m \u001b[1;33m\u001b[0m\u001b[0m\n\u001b[1;32m--> 895\u001b[1;33m         \u001b[0mself\u001b[0m\u001b[1;33m.\u001b[0m\u001b[0m_make_engine\u001b[0m\u001b[1;33m(\u001b[0m\u001b[0mself\u001b[0m\u001b[1;33m.\u001b[0m\u001b[0mengine\u001b[0m\u001b[1;33m)\u001b[0m\u001b[1;33m\u001b[0m\u001b[1;33m\u001b[0m\u001b[0m\n\u001b[0m\u001b[0;32m    896\u001b[0m \u001b[1;33m\u001b[0m\u001b[0m\n\u001b[0;32m    897\u001b[0m     \u001b[1;32mdef\u001b[0m \u001b[0mclose\u001b[0m\u001b[1;33m(\u001b[0m\u001b[0mself\u001b[0m\u001b[1;33m)\u001b[0m\u001b[1;33m:\u001b[0m\u001b[1;33m\u001b[0m\u001b[1;33m\u001b[0m\u001b[0m\n",
      "\u001b[1;32m~\\Anaconda3\\lib\\site-packages\\pandas\\io\\parsers.py\u001b[0m in \u001b[0;36m_make_engine\u001b[1;34m(self, engine)\u001b[0m\n\u001b[0;32m   1120\u001b[0m     \u001b[1;32mdef\u001b[0m \u001b[0m_make_engine\u001b[0m\u001b[1;33m(\u001b[0m\u001b[0mself\u001b[0m\u001b[1;33m,\u001b[0m \u001b[0mengine\u001b[0m\u001b[1;33m=\u001b[0m\u001b[1;34m'c'\u001b[0m\u001b[1;33m)\u001b[0m\u001b[1;33m:\u001b[0m\u001b[1;33m\u001b[0m\u001b[1;33m\u001b[0m\u001b[0m\n\u001b[0;32m   1121\u001b[0m         \u001b[1;32mif\u001b[0m \u001b[0mengine\u001b[0m \u001b[1;33m==\u001b[0m \u001b[1;34m'c'\u001b[0m\u001b[1;33m:\u001b[0m\u001b[1;33m\u001b[0m\u001b[1;33m\u001b[0m\u001b[0m\n\u001b[1;32m-> 1122\u001b[1;33m             \u001b[0mself\u001b[0m\u001b[1;33m.\u001b[0m\u001b[0m_engine\u001b[0m \u001b[1;33m=\u001b[0m \u001b[0mCParserWrapper\u001b[0m\u001b[1;33m(\u001b[0m\u001b[0mself\u001b[0m\u001b[1;33m.\u001b[0m\u001b[0mf\u001b[0m\u001b[1;33m,\u001b[0m \u001b[1;33m**\u001b[0m\u001b[0mself\u001b[0m\u001b[1;33m.\u001b[0m\u001b[0moptions\u001b[0m\u001b[1;33m)\u001b[0m\u001b[1;33m\u001b[0m\u001b[1;33m\u001b[0m\u001b[0m\n\u001b[0m\u001b[0;32m   1123\u001b[0m         \u001b[1;32melse\u001b[0m\u001b[1;33m:\u001b[0m\u001b[1;33m\u001b[0m\u001b[1;33m\u001b[0m\u001b[0m\n\u001b[0;32m   1124\u001b[0m             \u001b[1;32mif\u001b[0m \u001b[0mengine\u001b[0m \u001b[1;33m==\u001b[0m \u001b[1;34m'python'\u001b[0m\u001b[1;33m:\u001b[0m\u001b[1;33m\u001b[0m\u001b[1;33m\u001b[0m\u001b[0m\n",
      "\u001b[1;32m~\\Anaconda3\\lib\\site-packages\\pandas\\io\\parsers.py\u001b[0m in \u001b[0;36m__init__\u001b[1;34m(self, src, **kwds)\u001b[0m\n\u001b[0;32m   1851\u001b[0m         \u001b[0mkwds\u001b[0m\u001b[1;33m[\u001b[0m\u001b[1;34m'usecols'\u001b[0m\u001b[1;33m]\u001b[0m \u001b[1;33m=\u001b[0m \u001b[0mself\u001b[0m\u001b[1;33m.\u001b[0m\u001b[0musecols\u001b[0m\u001b[1;33m\u001b[0m\u001b[1;33m\u001b[0m\u001b[0m\n\u001b[0;32m   1852\u001b[0m \u001b[1;33m\u001b[0m\u001b[0m\n\u001b[1;32m-> 1853\u001b[1;33m         \u001b[0mself\u001b[0m\u001b[1;33m.\u001b[0m\u001b[0m_reader\u001b[0m \u001b[1;33m=\u001b[0m \u001b[0mparsers\u001b[0m\u001b[1;33m.\u001b[0m\u001b[0mTextReader\u001b[0m\u001b[1;33m(\u001b[0m\u001b[0msrc\u001b[0m\u001b[1;33m,\u001b[0m \u001b[1;33m**\u001b[0m\u001b[0mkwds\u001b[0m\u001b[1;33m)\u001b[0m\u001b[1;33m\u001b[0m\u001b[1;33m\u001b[0m\u001b[0m\n\u001b[0m\u001b[0;32m   1854\u001b[0m         \u001b[0mself\u001b[0m\u001b[1;33m.\u001b[0m\u001b[0munnamed_cols\u001b[0m \u001b[1;33m=\u001b[0m \u001b[0mself\u001b[0m\u001b[1;33m.\u001b[0m\u001b[0m_reader\u001b[0m\u001b[1;33m.\u001b[0m\u001b[0munnamed_cols\u001b[0m\u001b[1;33m\u001b[0m\u001b[1;33m\u001b[0m\u001b[0m\n\u001b[0;32m   1855\u001b[0m \u001b[1;33m\u001b[0m\u001b[0m\n",
      "\u001b[1;32mpandas/_libs/parsers.pyx\u001b[0m in \u001b[0;36mpandas._libs.parsers.TextReader.__cinit__\u001b[1;34m()\u001b[0m\n",
      "\u001b[1;32mpandas/_libs/parsers.pyx\u001b[0m in \u001b[0;36mpandas._libs.parsers.TextReader._setup_parser_source\u001b[1;34m()\u001b[0m\n",
      "\u001b[1;31mFileNotFoundError\u001b[0m: [Errno 2] File b'..\\\\data\\test-balanced.csv' does not exist: b'..\\\\data\\test-balanced.csv'"
     ]
    }
   ],
   "source": [
    "df = pd.read_csv(\"..\\data\\test-balanced.csv\", \n",
    "                 sep='\\t', \n",
    "                 header=None, \n",
    "                 names=['label','comment','author','subreddit','score',\n",
    "                        'ups','downs','date','created_utc','parent_comment'])"
   ]
  },
  {
   "cell_type": "code",
   "execution_count": null,
   "metadata": {},
   "outputs": [],
   "source": [
    "df.info(memory_usage='deep', null_counts=True)"
   ]
  },
  {
   "cell_type": "code",
   "execution_count": 18,
   "metadata": {},
   "outputs": [
    {
     "data": {
      "text/html": [
       "<div>\n",
       "<style scoped>\n",
       "    .dataframe tbody tr th:only-of-type {\n",
       "        vertical-align: middle;\n",
       "    }\n",
       "\n",
       "    .dataframe tbody tr th {\n",
       "        vertical-align: top;\n",
       "    }\n",
       "\n",
       "    .dataframe thead th {\n",
       "        text-align: right;\n",
       "    }\n",
       "</style>\n",
       "<table border=\"1\" class=\"dataframe\">\n",
       "  <thead>\n",
       "    <tr style=\"text-align: right;\">\n",
       "      <th></th>\n",
       "      <th>label</th>\n",
       "      <th>comment</th>\n",
       "      <th>author</th>\n",
       "      <th>subreddit</th>\n",
       "      <th>score</th>\n",
       "      <th>ups</th>\n",
       "      <th>downs</th>\n",
       "      <th>date</th>\n",
       "      <th>created_utc</th>\n",
       "      <th>parent_comment</th>\n",
       "    </tr>\n",
       "  </thead>\n",
       "  <tbody>\n",
       "    <tr>\n",
       "      <th>0</th>\n",
       "      <td>0</td>\n",
       "      <td>Actually most of her supporters and sane peopl...</td>\n",
       "      <td>Quinnjester</td>\n",
       "      <td>politics</td>\n",
       "      <td>3</td>\n",
       "      <td>3</td>\n",
       "      <td>0</td>\n",
       "      <td>2016-09</td>\n",
       "      <td>1473569605</td>\n",
       "      <td>Hillary's Surrogotes Told to Blame Media for '...</td>\n",
       "    </tr>\n",
       "    <tr>\n",
       "      <th>1</th>\n",
       "      <td>0</td>\n",
       "      <td>They can't survive without an echo chamber whi...</td>\n",
       "      <td>TheGettysburgAddress</td>\n",
       "      <td>The_Donald</td>\n",
       "      <td>13</td>\n",
       "      <td>-1</td>\n",
       "      <td>-1</td>\n",
       "      <td>2016-11</td>\n",
       "      <td>1478788413</td>\n",
       "      <td>Thank God Liberals like to live in concentrate...</td>\n",
       "    </tr>\n",
       "    <tr>\n",
       "      <th>2</th>\n",
       "      <td>0</td>\n",
       "      <td>you're pretty cute yourself 1729 total</td>\n",
       "      <td>Sempiternally_free</td>\n",
       "      <td>2007scape</td>\n",
       "      <td>8</td>\n",
       "      <td>-1</td>\n",
       "      <td>-1</td>\n",
       "      <td>2016-11</td>\n",
       "      <td>1478042903</td>\n",
       "      <td>Saw this cutie training his Attack today...</td>\n",
       "    </tr>\n",
       "    <tr>\n",
       "      <th>3</th>\n",
       "      <td>0</td>\n",
       "      <td>If you kill me you'll crash the meme market</td>\n",
       "      <td>Catacomb82</td>\n",
       "      <td>AskReddit</td>\n",
       "      <td>2</td>\n",
       "      <td>-1</td>\n",
       "      <td>-1</td>\n",
       "      <td>2016-10</td>\n",
       "      <td>1477412597</td>\n",
       "      <td>If you were locked in a room with 49 other peo...</td>\n",
       "    </tr>\n",
       "    <tr>\n",
       "      <th>4</th>\n",
       "      <td>0</td>\n",
       "      <td>I bet he wrote that last message as he was sob...</td>\n",
       "      <td>Dorian-throwaway</td>\n",
       "      <td>niceguys</td>\n",
       "      <td>5</td>\n",
       "      <td>-1</td>\n",
       "      <td>-1</td>\n",
       "      <td>2016-11</td>\n",
       "      <td>1477962278</td>\n",
       "      <td>You're not even that pretty!</td>\n",
       "    </tr>\n",
       "  </tbody>\n",
       "</table>\n",
       "</div>"
      ],
      "text/plain": [
       "   label                                            comment  \\\n",
       "0      0  Actually most of her supporters and sane peopl...   \n",
       "1      0  They can't survive without an echo chamber whi...   \n",
       "2      0             you're pretty cute yourself 1729 total   \n",
       "3      0        If you kill me you'll crash the meme market   \n",
       "4      0  I bet he wrote that last message as he was sob...   \n",
       "\n",
       "                 author   subreddit  score  ups  downs     date  created_utc  \\\n",
       "0           Quinnjester    politics      3    3      0  2016-09   1473569605   \n",
       "1  TheGettysburgAddress  The_Donald     13   -1     -1  2016-11   1478788413   \n",
       "2    Sempiternally_free   2007scape      8   -1     -1  2016-11   1478042903   \n",
       "3            Catacomb82   AskReddit      2   -1     -1  2016-10   1477412597   \n",
       "4      Dorian-throwaway    niceguys      5   -1     -1  2016-11   1477962278   \n",
       "\n",
       "                                      parent_comment  \n",
       "0  Hillary's Surrogotes Told to Blame Media for '...  \n",
       "1  Thank God Liberals like to live in concentrate...  \n",
       "2        Saw this cutie training his Attack today...  \n",
       "3  If you were locked in a room with 49 other peo...  \n",
       "4                       You're not even that pretty!  "
      ]
     },
     "execution_count": 18,
     "metadata": {},
     "output_type": "execute_result"
    }
   ],
   "source": [
    "df.head()"
   ]
  },
  {
   "cell_type": "code",
   "execution_count": 35,
   "metadata": {},
   "outputs": [
    {
     "data": {
      "text/plain": [
       "(1010826, 10)"
      ]
     },
     "execution_count": 35,
     "metadata": {},
     "output_type": "execute_result"
    }
   ],
   "source": [
    "test_bal_shape = df.shape\n",
    "test_bal_shape"
   ]
  },
  {
   "cell_type": "code",
   "execution_count": 20,
   "metadata": {},
   "outputs": [
    {
     "data": {
      "text/html": [
       "<div>\n",
       "<style scoped>\n",
       "    .dataframe tbody tr th:only-of-type {\n",
       "        vertical-align: middle;\n",
       "    }\n",
       "\n",
       "    .dataframe tbody tr th {\n",
       "        vertical-align: top;\n",
       "    }\n",
       "\n",
       "    .dataframe thead th {\n",
       "        text-align: right;\n",
       "    }\n",
       "</style>\n",
       "<table border=\"1\" class=\"dataframe\">\n",
       "  <thead>\n",
       "    <tr style=\"text-align: right;\">\n",
       "      <th></th>\n",
       "      <th>label</th>\n",
       "      <th>score</th>\n",
       "      <th>ups</th>\n",
       "      <th>downs</th>\n",
       "      <th>created_utc</th>\n",
       "    </tr>\n",
       "  </thead>\n",
       "  <tbody>\n",
       "    <tr>\n",
       "      <th>count</th>\n",
       "      <td>251608.000000</td>\n",
       "      <td>251608.000000</td>\n",
       "      <td>251608.000000</td>\n",
       "      <td>251608.000000</td>\n",
       "      <td>2.516080e+05</td>\n",
       "    </tr>\n",
       "    <tr>\n",
       "      <th>mean</th>\n",
       "      <td>0.500000</td>\n",
       "      <td>6.757452</td>\n",
       "      <td>5.410953</td>\n",
       "      <td>-0.143751</td>\n",
       "      <td>1.438535e+09</td>\n",
       "    </tr>\n",
       "    <tr>\n",
       "      <th>std</th>\n",
       "      <td>0.500001</td>\n",
       "      <td>48.450781</td>\n",
       "      <td>39.402618</td>\n",
       "      <td>0.350838</td>\n",
       "      <td>3.950226e+07</td>\n",
       "    </tr>\n",
       "    <tr>\n",
       "      <th>min</th>\n",
       "      <td>0.000000</td>\n",
       "      <td>-329.000000</td>\n",
       "      <td>-329.000000</td>\n",
       "      <td>-1.000000</td>\n",
       "      <td>1.230881e+09</td>\n",
       "    </tr>\n",
       "    <tr>\n",
       "      <th>25%</th>\n",
       "      <td>0.000000</td>\n",
       "      <td>1.000000</td>\n",
       "      <td>0.000000</td>\n",
       "      <td>0.000000</td>\n",
       "      <td>1.420403e+09</td>\n",
       "    </tr>\n",
       "    <tr>\n",
       "      <th>50%</th>\n",
       "      <td>0.500000</td>\n",
       "      <td>2.000000</td>\n",
       "      <td>1.000000</td>\n",
       "      <td>0.000000</td>\n",
       "      <td>1.448768e+09</td>\n",
       "    </tr>\n",
       "    <tr>\n",
       "      <th>75%</th>\n",
       "      <td>1.000000</td>\n",
       "      <td>4.000000</td>\n",
       "      <td>3.000000</td>\n",
       "      <td>0.000000</td>\n",
       "      <td>1.468522e+09</td>\n",
       "    </tr>\n",
       "    <tr>\n",
       "      <th>max</th>\n",
       "      <td>1.000000</td>\n",
       "      <td>9923.000000</td>\n",
       "      <td>4835.000000</td>\n",
       "      <td>0.000000</td>\n",
       "      <td>1.483229e+09</td>\n",
       "    </tr>\n",
       "  </tbody>\n",
       "</table>\n",
       "</div>"
      ],
      "text/plain": [
       "               label          score            ups          downs  \\\n",
       "count  251608.000000  251608.000000  251608.000000  251608.000000   \n",
       "mean        0.500000       6.757452       5.410953      -0.143751   \n",
       "std         0.500001      48.450781      39.402618       0.350838   \n",
       "min         0.000000    -329.000000    -329.000000      -1.000000   \n",
       "25%         0.000000       1.000000       0.000000       0.000000   \n",
       "50%         0.500000       2.000000       1.000000       0.000000   \n",
       "75%         1.000000       4.000000       3.000000       0.000000   \n",
       "max         1.000000    9923.000000    4835.000000       0.000000   \n",
       "\n",
       "        created_utc  \n",
       "count  2.516080e+05  \n",
       "mean   1.438535e+09  \n",
       "std    3.950226e+07  \n",
       "min    1.230881e+09  \n",
       "25%    1.420403e+09  \n",
       "50%    1.448768e+09  \n",
       "75%    1.468522e+09  \n",
       "max    1.483229e+09  "
      ]
     },
     "execution_count": 20,
     "metadata": {},
     "output_type": "execute_result"
    }
   ],
   "source": [
    "df.describe()"
   ]
  },
  {
   "cell_type": "markdown",
   "metadata": {},
   "source": [
    "### Are there any NA values?"
   ]
  },
  {
   "cell_type": "code",
   "execution_count": 21,
   "metadata": {},
   "outputs": [
    {
     "data": {
      "text/plain": [
       "True"
      ]
     },
     "execution_count": 21,
     "metadata": {},
     "output_type": "execute_result"
    }
   ],
   "source": [
    "df.isnull().values.any()  # True"
   ]
  },
  {
   "cell_type": "markdown",
   "metadata": {},
   "source": [
    "### How many?"
   ]
  },
  {
   "cell_type": "code",
   "execution_count": 22,
   "metadata": {},
   "outputs": [
    {
     "data": {
      "text/plain": [
       "14"
      ]
     },
     "execution_count": 22,
     "metadata": {},
     "output_type": "execute_result"
    }
   ],
   "source": [
    "df.isnull().sum().sum()  # 14"
   ]
  },
  {
   "cell_type": "markdown",
   "metadata": {},
   "source": [
    "### Which columns?"
   ]
  },
  {
   "cell_type": "code",
   "execution_count": 23,
   "metadata": {},
   "outputs": [
    {
     "data": {
      "text/plain": [
       "label             False\n",
       "comment            True\n",
       "author            False\n",
       "subreddit         False\n",
       "score             False\n",
       "ups               False\n",
       "downs             False\n",
       "date              False\n",
       "created_utc       False\n",
       "parent_comment    False\n",
       "dtype: bool"
      ]
     },
     "execution_count": 23,
     "metadata": {},
     "output_type": "execute_result"
    }
   ],
   "source": [
    "df.isnull().any()  # comment col only"
   ]
  },
  {
   "cell_type": "markdown",
   "metadata": {},
   "source": [
    "### Which rows?"
   ]
  },
  {
   "cell_type": "code",
   "execution_count": 24,
   "metadata": {},
   "outputs": [
    {
     "data": {
      "text/html": [
       "<div>\n",
       "<style scoped>\n",
       "    .dataframe tbody tr th:only-of-type {\n",
       "        vertical-align: middle;\n",
       "    }\n",
       "\n",
       "    .dataframe tbody tr th {\n",
       "        vertical-align: top;\n",
       "    }\n",
       "\n",
       "    .dataframe thead th {\n",
       "        text-align: right;\n",
       "    }\n",
       "</style>\n",
       "<table border=\"1\" class=\"dataframe\">\n",
       "  <thead>\n",
       "    <tr style=\"text-align: right;\">\n",
       "      <th></th>\n",
       "      <th>label</th>\n",
       "      <th>comment</th>\n",
       "      <th>author</th>\n",
       "      <th>subreddit</th>\n",
       "      <th>score</th>\n",
       "      <th>ups</th>\n",
       "      <th>downs</th>\n",
       "      <th>date</th>\n",
       "      <th>created_utc</th>\n",
       "      <th>parent_comment</th>\n",
       "    </tr>\n",
       "  </thead>\n",
       "  <tbody>\n",
       "    <tr>\n",
       "      <th>3860</th>\n",
       "      <td>1</td>\n",
       "      <td>NaN</td>\n",
       "      <td>Red_Hawk13</td>\n",
       "      <td>GlobalOffensive</td>\n",
       "      <td>1</td>\n",
       "      <td>-1</td>\n",
       "      <td>-1</td>\n",
       "      <td>2016-11</td>\n",
       "      <td>1479233380</td>\n",
       "      <td>If that was me in mm peeking there I'd be head...</td>\n",
       "    </tr>\n",
       "    <tr>\n",
       "      <th>13981</th>\n",
       "      <td>0</td>\n",
       "      <td>NaN</td>\n",
       "      <td>MrVacuous</td>\n",
       "      <td>Warhammer</td>\n",
       "      <td>1</td>\n",
       "      <td>-1</td>\n",
       "      <td>-1</td>\n",
       "      <td>2016-10</td>\n",
       "      <td>1477159100</td>\n",
       "      <td>how much money have you spent on this hobby? H...</td>\n",
       "    </tr>\n",
       "    <tr>\n",
       "      <th>139814</th>\n",
       "      <td>0</td>\n",
       "      <td>NaN</td>\n",
       "      <td>John_Wall_Star</td>\n",
       "      <td>nba</td>\n",
       "      <td>4</td>\n",
       "      <td>4</td>\n",
       "      <td>0</td>\n",
       "      <td>2015-12</td>\n",
       "      <td>1450934641</td>\n",
       "      <td>#Wallstar</td>\n",
       "    </tr>\n",
       "    <tr>\n",
       "      <th>147372</th>\n",
       "      <td>1</td>\n",
       "      <td>NaN</td>\n",
       "      <td>D_VoN</td>\n",
       "      <td>gaming</td>\n",
       "      <td>1</td>\n",
       "      <td>1</td>\n",
       "      <td>0</td>\n",
       "      <td>2015-07</td>\n",
       "      <td>1436199078</td>\n",
       "      <td>How do you not know which way to put the cartr...</td>\n",
       "    </tr>\n",
       "    <tr>\n",
       "      <th>151112</th>\n",
       "      <td>0</td>\n",
       "      <td>NaN</td>\n",
       "      <td>OH_NO_MR_BILL</td>\n",
       "      <td>pics</td>\n",
       "      <td>1</td>\n",
       "      <td>1</td>\n",
       "      <td>0</td>\n",
       "      <td>2015-07</td>\n",
       "      <td>1437708816</td>\n",
       "      <td>[click the 'source' link](/intensifies)</td>\n",
       "    </tr>\n",
       "    <tr>\n",
       "      <th>153607</th>\n",
       "      <td>1</td>\n",
       "      <td>NaN</td>\n",
       "      <td>EranVonBaron</td>\n",
       "      <td>CivilizatonExperiment</td>\n",
       "      <td>1</td>\n",
       "      <td>1</td>\n",
       "      <td>0</td>\n",
       "      <td>2015-09</td>\n",
       "      <td>1441934837</td>\n",
       "      <td>yo wot</td>\n",
       "    </tr>\n",
       "    <tr>\n",
       "      <th>165219</th>\n",
       "      <td>1</td>\n",
       "      <td>NaN</td>\n",
       "      <td>embGOD</td>\n",
       "      <td>leagueoflegends</td>\n",
       "      <td>1</td>\n",
       "      <td>1</td>\n",
       "      <td>0</td>\n",
       "      <td>2015-01</td>\n",
       "      <td>1420585477</td>\n",
       "      <td>what's wrong with that :|</td>\n",
       "    </tr>\n",
       "    <tr>\n",
       "      <th>178639</th>\n",
       "      <td>0</td>\n",
       "      <td>NaN</td>\n",
       "      <td>TheSoupKitchen</td>\n",
       "      <td>TeraOnline</td>\n",
       "      <td>1</td>\n",
       "      <td>1</td>\n",
       "      <td>0</td>\n",
       "      <td>2015-03</td>\n",
       "      <td>1426902595</td>\n",
       "      <td>You on EU? I had this problem a year ago but i...</td>\n",
       "    </tr>\n",
       "    <tr>\n",
       "      <th>181985</th>\n",
       "      <td>0</td>\n",
       "      <td>NaN</td>\n",
       "      <td>vVs_Pidgeon</td>\n",
       "      <td>heroesofthestorm</td>\n",
       "      <td>1</td>\n",
       "      <td>1</td>\n",
       "      <td>0</td>\n",
       "      <td>2015-02</td>\n",
       "      <td>1425035932</td>\n",
       "      <td>On which region are you?</td>\n",
       "    </tr>\n",
       "    <tr>\n",
       "      <th>192810</th>\n",
       "      <td>1</td>\n",
       "      <td>NaN</td>\n",
       "      <td>doppelwurzel</td>\n",
       "      <td>funny</td>\n",
       "      <td>1</td>\n",
       "      <td>1</td>\n",
       "      <td>0</td>\n",
       "      <td>2015-05</td>\n",
       "      <td>1432681571</td>\n",
       "      <td>Colorblind maybe? I dunno. I'm sure he won't d...</td>\n",
       "    </tr>\n",
       "    <tr>\n",
       "      <th>208819</th>\n",
       "      <td>1</td>\n",
       "      <td>NaN</td>\n",
       "      <td>OliverSparrow</td>\n",
       "      <td>Futurology</td>\n",
       "      <td>1</td>\n",
       "      <td>1</td>\n",
       "      <td>0</td>\n",
       "      <td>2014-05</td>\n",
       "      <td>1401350822</td>\n",
       "      <td>I think steam had a way bigger impact then the...</td>\n",
       "    </tr>\n",
       "    <tr>\n",
       "      <th>228124</th>\n",
       "      <td>1</td>\n",
       "      <td>NaN</td>\n",
       "      <td>Temp1ar</td>\n",
       "      <td>CanadaPolitics</td>\n",
       "      <td>7</td>\n",
       "      <td>7</td>\n",
       "      <td>0</td>\n",
       "      <td>2013-03</td>\n",
       "      <td>1363623223</td>\n",
       "      <td>I hate \"not sure if sarcasm\" comments but your...</td>\n",
       "    </tr>\n",
       "    <tr>\n",
       "      <th>236849</th>\n",
       "      <td>1</td>\n",
       "      <td>NaN</td>\n",
       "      <td>drewmat</td>\n",
       "      <td>survivor</td>\n",
       "      <td>2</td>\n",
       "      <td>2</td>\n",
       "      <td>0</td>\n",
       "      <td>2013-01</td>\n",
       "      <td>1357330075</td>\n",
       "      <td>aw, that really sucks. i feel bad for him</td>\n",
       "    </tr>\n",
       "    <tr>\n",
       "      <th>248895</th>\n",
       "      <td>1</td>\n",
       "      <td>NaN</td>\n",
       "      <td>povsky</td>\n",
       "      <td>AskReddit</td>\n",
       "      <td>1</td>\n",
       "      <td>1</td>\n",
       "      <td>0</td>\n",
       "      <td>2011-02</td>\n",
       "      <td>1297406810</td>\n",
       "      <td>If you're serious, nobody cares. Don't bother ...</td>\n",
       "    </tr>\n",
       "  </tbody>\n",
       "</table>\n",
       "</div>"
      ],
      "text/plain": [
       "        label comment          author              subreddit  score  ups  \\\n",
       "3860        1     NaN      Red_Hawk13        GlobalOffensive      1   -1   \n",
       "13981       0     NaN       MrVacuous              Warhammer      1   -1   \n",
       "139814      0     NaN  John_Wall_Star                    nba      4    4   \n",
       "147372      1     NaN           D_VoN                 gaming      1    1   \n",
       "151112      0     NaN   OH_NO_MR_BILL                   pics      1    1   \n",
       "153607      1     NaN    EranVonBaron  CivilizatonExperiment      1    1   \n",
       "165219      1     NaN          embGOD        leagueoflegends      1    1   \n",
       "178639      0     NaN  TheSoupKitchen             TeraOnline      1    1   \n",
       "181985      0     NaN     vVs_Pidgeon       heroesofthestorm      1    1   \n",
       "192810      1     NaN    doppelwurzel                  funny      1    1   \n",
       "208819      1     NaN   OliverSparrow             Futurology      1    1   \n",
       "228124      1     NaN         Temp1ar         CanadaPolitics      7    7   \n",
       "236849      1     NaN         drewmat               survivor      2    2   \n",
       "248895      1     NaN          povsky              AskReddit      1    1   \n",
       "\n",
       "        downs     date  created_utc  \\\n",
       "3860       -1  2016-11   1479233380   \n",
       "13981      -1  2016-10   1477159100   \n",
       "139814      0  2015-12   1450934641   \n",
       "147372      0  2015-07   1436199078   \n",
       "151112      0  2015-07   1437708816   \n",
       "153607      0  2015-09   1441934837   \n",
       "165219      0  2015-01   1420585477   \n",
       "178639      0  2015-03   1426902595   \n",
       "181985      0  2015-02   1425035932   \n",
       "192810      0  2015-05   1432681571   \n",
       "208819      0  2014-05   1401350822   \n",
       "228124      0  2013-03   1363623223   \n",
       "236849      0  2013-01   1357330075   \n",
       "248895      0  2011-02   1297406810   \n",
       "\n",
       "                                           parent_comment  \n",
       "3860    If that was me in mm peeking there I'd be head...  \n",
       "13981   how much money have you spent on this hobby? H...  \n",
       "139814                                          #Wallstar  \n",
       "147372  How do you not know which way to put the cartr...  \n",
       "151112            [click the 'source' link](/intensifies)  \n",
       "153607                                             yo wot  \n",
       "165219                          what's wrong with that :|  \n",
       "178639  You on EU? I had this problem a year ago but i...  \n",
       "181985                           On which region are you?  \n",
       "192810  Colorblind maybe? I dunno. I'm sure he won't d...  \n",
       "208819  I think steam had a way bigger impact then the...  \n",
       "228124  I hate \"not sure if sarcasm\" comments but your...  \n",
       "236849          aw, that really sucks. i feel bad for him  \n",
       "248895  If you're serious, nobody cares. Don't bother ...  "
      ]
     },
     "execution_count": 24,
     "metadata": {},
     "output_type": "execute_result"
    }
   ],
   "source": [
    "df[df['comment'].isnull()]  # 14 rows, 9 labeled sarcasm"
   ]
  },
  {
   "cell_type": "markdown",
   "metadata": {},
   "source": [
    "### Will these NAs negatively affect our planned analysis?"
   ]
  },
  {
   "cell_type": "markdown",
   "metadata": {},
   "source": [
    "To consider it from another angle, might a nonresponse might be useful as we seek to detect sarcasm? \n",
    "\n",
    "1. In the context of the parent_comment, might the empty response be intentional?\n",
    " - Consider index 228124. The parent_comment is \"I hate \"not sure if sarcasm\" comments but your....\" This means that author previously wrote or indicated \"not sure if sarcasm.\" And in response to \"I hate 'not sure if sarcasm'\" author responds with an empty string. In the context of a live human conversation, especially a contentious one, a silent stare might be interpreted as anger, aggression, or sarcasm. Thus it seems that an empty response could be not only intentional but pointed and full of meaning.\n",
    " - Also, because some of the empty comments were flagged by author as sarcasm, we can be highly confident that the lack of content is intentional in most of these cases. Note that intentionality is less clear in empty comments that are _not_ annotated as sarcasm by author.\n",
    "1. Will dropping or keeping the NAs affect our analysis?\n",
    " - Because there are so few relative to the size of the dataset, dropping the NAs would likely not damage our analysis significantly.\n",
    " - However, because they can represent a specific form of sarcasm, we will keep them.\n",
    " \n",
    "**Decision: Keep empty comments. They should not hurt and will likely help our analysis.**"
   ]
  },
  {
   "cell_type": "code",
   "execution_count": null,
   "metadata": {},
   "outputs": [],
   "source": []
  },
  {
   "cell_type": "code",
   "execution_count": null,
   "metadata": {},
   "outputs": [],
   "source": []
  },
  {
   "cell_type": "markdown",
   "metadata": {},
   "source": [
    "## Explore train-balanced.csv"
   ]
  },
  {
   "cell_type": "code",
   "execution_count": 25,
   "metadata": {},
   "outputs": [],
   "source": [
    "df = pd.read_csv(\"train-balanced.csv\", \n",
    "                 sep='\\t', \n",
    "                 header=None, \n",
    "                 names=['label','comment','author','subreddit','score',\n",
    "                        'ups','downs','date','created_utc','parent_comment'])"
   ]
  },
  {
   "cell_type": "code",
   "execution_count": 26,
   "metadata": {},
   "outputs": [
    {
     "data": {
      "text/html": [
       "<div>\n",
       "<style scoped>\n",
       "    .dataframe tbody tr th:only-of-type {\n",
       "        vertical-align: middle;\n",
       "    }\n",
       "\n",
       "    .dataframe tbody tr th {\n",
       "        vertical-align: top;\n",
       "    }\n",
       "\n",
       "    .dataframe thead th {\n",
       "        text-align: right;\n",
       "    }\n",
       "</style>\n",
       "<table border=\"1\" class=\"dataframe\">\n",
       "  <thead>\n",
       "    <tr style=\"text-align: right;\">\n",
       "      <th></th>\n",
       "      <th>label</th>\n",
       "      <th>comment</th>\n",
       "      <th>author</th>\n",
       "      <th>subreddit</th>\n",
       "      <th>score</th>\n",
       "      <th>ups</th>\n",
       "      <th>downs</th>\n",
       "      <th>date</th>\n",
       "      <th>created_utc</th>\n",
       "      <th>parent_comment</th>\n",
       "    </tr>\n",
       "  </thead>\n",
       "  <tbody>\n",
       "    <tr>\n",
       "      <th>0</th>\n",
       "      <td>0</td>\n",
       "      <td>NC and NH.</td>\n",
       "      <td>Trumpbart</td>\n",
       "      <td>politics</td>\n",
       "      <td>2</td>\n",
       "      <td>-1</td>\n",
       "      <td>-1</td>\n",
       "      <td>2016-10</td>\n",
       "      <td>1476662123</td>\n",
       "      <td>Yeah, I get that argument. At this point, I'd ...</td>\n",
       "    </tr>\n",
       "    <tr>\n",
       "      <th>1</th>\n",
       "      <td>0</td>\n",
       "      <td>You do know west teams play against west teams...</td>\n",
       "      <td>Shbshb906</td>\n",
       "      <td>nba</td>\n",
       "      <td>-4</td>\n",
       "      <td>-1</td>\n",
       "      <td>-1</td>\n",
       "      <td>2016-11</td>\n",
       "      <td>1477959850</td>\n",
       "      <td>The blazers and Mavericks (The wests 5 and 6 s...</td>\n",
       "    </tr>\n",
       "    <tr>\n",
       "      <th>2</th>\n",
       "      <td>0</td>\n",
       "      <td>They were underdogs earlier today, but since G...</td>\n",
       "      <td>Creepeth</td>\n",
       "      <td>nfl</td>\n",
       "      <td>3</td>\n",
       "      <td>3</td>\n",
       "      <td>0</td>\n",
       "      <td>2016-09</td>\n",
       "      <td>1474580737</td>\n",
       "      <td>They're favored to win.</td>\n",
       "    </tr>\n",
       "    <tr>\n",
       "      <th>3</th>\n",
       "      <td>0</td>\n",
       "      <td>This meme isn't funny none of the \"new york ni...</td>\n",
       "      <td>icebrotha</td>\n",
       "      <td>BlackPeopleTwitter</td>\n",
       "      <td>-8</td>\n",
       "      <td>-1</td>\n",
       "      <td>-1</td>\n",
       "      <td>2016-10</td>\n",
       "      <td>1476824627</td>\n",
       "      <td>deadass don't kill my buzz</td>\n",
       "    </tr>\n",
       "    <tr>\n",
       "      <th>4</th>\n",
       "      <td>0</td>\n",
       "      <td>I could use one of those tools.</td>\n",
       "      <td>cush2push</td>\n",
       "      <td>MaddenUltimateTeam</td>\n",
       "      <td>6</td>\n",
       "      <td>-1</td>\n",
       "      <td>-1</td>\n",
       "      <td>2016-12</td>\n",
       "      <td>1483117213</td>\n",
       "      <td>Yep can confirm I saw the tool they use for th...</td>\n",
       "    </tr>\n",
       "  </tbody>\n",
       "</table>\n",
       "</div>"
      ],
      "text/plain": [
       "   label                                            comment     author  \\\n",
       "0      0                                         NC and NH.  Trumpbart   \n",
       "1      0  You do know west teams play against west teams...  Shbshb906   \n",
       "2      0  They were underdogs earlier today, but since G...   Creepeth   \n",
       "3      0  This meme isn't funny none of the \"new york ni...  icebrotha   \n",
       "4      0                    I could use one of those tools.  cush2push   \n",
       "\n",
       "            subreddit  score  ups  downs     date  created_utc  \\\n",
       "0            politics      2   -1     -1  2016-10   1476662123   \n",
       "1                 nba     -4   -1     -1  2016-11   1477959850   \n",
       "2                 nfl      3    3      0  2016-09   1474580737   \n",
       "3  BlackPeopleTwitter     -8   -1     -1  2016-10   1476824627   \n",
       "4  MaddenUltimateTeam      6   -1     -1  2016-12   1483117213   \n",
       "\n",
       "                                      parent_comment  \n",
       "0  Yeah, I get that argument. At this point, I'd ...  \n",
       "1  The blazers and Mavericks (The wests 5 and 6 s...  \n",
       "2                            They're favored to win.  \n",
       "3                         deadass don't kill my buzz  \n",
       "4  Yep can confirm I saw the tool they use for th...  "
      ]
     },
     "execution_count": 26,
     "metadata": {},
     "output_type": "execute_result"
    }
   ],
   "source": [
    "df.head()"
   ]
  },
  {
   "cell_type": "code",
   "execution_count": 27,
   "metadata": {},
   "outputs": [
    {
     "data": {
      "text/plain": [
       "(1010826, 10)"
      ]
     },
     "execution_count": 27,
     "metadata": {},
     "output_type": "execute_result"
    }
   ],
   "source": [
    "train_bal_shape = df.shape\n",
    "train_bal_shape"
   ]
  },
  {
   "cell_type": "code",
   "execution_count": 28,
   "metadata": {},
   "outputs": [
    {
     "data": {
      "text/html": [
       "<div>\n",
       "<style scoped>\n",
       "    .dataframe tbody tr th:only-of-type {\n",
       "        vertical-align: middle;\n",
       "    }\n",
       "\n",
       "    .dataframe tbody tr th {\n",
       "        vertical-align: top;\n",
       "    }\n",
       "\n",
       "    .dataframe thead th {\n",
       "        text-align: right;\n",
       "    }\n",
       "</style>\n",
       "<table border=\"1\" class=\"dataframe\">\n",
       "  <thead>\n",
       "    <tr style=\"text-align: right;\">\n",
       "      <th></th>\n",
       "      <th>label</th>\n",
       "      <th>score</th>\n",
       "      <th>ups</th>\n",
       "      <th>downs</th>\n",
       "      <th>created_utc</th>\n",
       "    </tr>\n",
       "  </thead>\n",
       "  <tbody>\n",
       "    <tr>\n",
       "      <th>count</th>\n",
       "      <td>1010826.0</td>\n",
       "      <td>1.010826e+06</td>\n",
       "      <td>1.010826e+06</td>\n",
       "      <td>1.010826e+06</td>\n",
       "      <td>1.010826e+06</td>\n",
       "    </tr>\n",
       "    <tr>\n",
       "      <th>mean</th>\n",
       "      <td>0.5</td>\n",
       "      <td>6.885676e+00</td>\n",
       "      <td>5.498885e+00</td>\n",
       "      <td>-1.458629e-01</td>\n",
       "      <td>1.438684e+09</td>\n",
       "    </tr>\n",
       "    <tr>\n",
       "      <th>std</th>\n",
       "      <td>0.5</td>\n",
       "      <td>4.834288e+01</td>\n",
       "      <td>4.127297e+01</td>\n",
       "      <td>3.529689e-01</td>\n",
       "      <td>3.945812e+07</td>\n",
       "    </tr>\n",
       "    <tr>\n",
       "      <th>min</th>\n",
       "      <td>0.0</td>\n",
       "      <td>-5.070000e+02</td>\n",
       "      <td>-5.070000e+02</td>\n",
       "      <td>-1.000000e+00</td>\n",
       "      <td>1.230851e+09</td>\n",
       "    </tr>\n",
       "    <tr>\n",
       "      <th>25%</th>\n",
       "      <td>0.0</td>\n",
       "      <td>1.000000e+00</td>\n",
       "      <td>0.000000e+00</td>\n",
       "      <td>0.000000e+00</td>\n",
       "      <td>1.420734e+09</td>\n",
       "    </tr>\n",
       "    <tr>\n",
       "      <th>50%</th>\n",
       "      <td>0.5</td>\n",
       "      <td>2.000000e+00</td>\n",
       "      <td>1.000000e+00</td>\n",
       "      <td>0.000000e+00</td>\n",
       "      <td>1.448915e+09</td>\n",
       "    </tr>\n",
       "    <tr>\n",
       "      <th>75%</th>\n",
       "      <td>1.0</td>\n",
       "      <td>4.000000e+00</td>\n",
       "      <td>3.000000e+00</td>\n",
       "      <td>0.000000e+00</td>\n",
       "      <td>1.468588e+09</td>\n",
       "    </tr>\n",
       "    <tr>\n",
       "      <th>max</th>\n",
       "      <td>1.0</td>\n",
       "      <td>9.070000e+03</td>\n",
       "      <td>5.163000e+03</td>\n",
       "      <td>0.000000e+00</td>\n",
       "      <td>1.483229e+09</td>\n",
       "    </tr>\n",
       "  </tbody>\n",
       "</table>\n",
       "</div>"
      ],
      "text/plain": [
       "           label         score           ups         downs   created_utc\n",
       "count  1010826.0  1.010826e+06  1.010826e+06  1.010826e+06  1.010826e+06\n",
       "mean         0.5  6.885676e+00  5.498885e+00 -1.458629e-01  1.438684e+09\n",
       "std          0.5  4.834288e+01  4.127297e+01  3.529689e-01  3.945812e+07\n",
       "min          0.0 -5.070000e+02 -5.070000e+02 -1.000000e+00  1.230851e+09\n",
       "25%          0.0  1.000000e+00  0.000000e+00  0.000000e+00  1.420734e+09\n",
       "50%          0.5  2.000000e+00  1.000000e+00  0.000000e+00  1.448915e+09\n",
       "75%          1.0  4.000000e+00  3.000000e+00  0.000000e+00  1.468588e+09\n",
       "max          1.0  9.070000e+03  5.163000e+03  0.000000e+00  1.483229e+09"
      ]
     },
     "execution_count": 28,
     "metadata": {},
     "output_type": "execute_result"
    }
   ],
   "source": [
    "df.describe()"
   ]
  },
  {
   "cell_type": "markdown",
   "metadata": {},
   "source": [
    "### Are there any NA values?"
   ]
  },
  {
   "cell_type": "code",
   "execution_count": 29,
   "metadata": {},
   "outputs": [
    {
     "data": {
      "text/plain": [
       "True"
      ]
     },
     "execution_count": 29,
     "metadata": {},
     "output_type": "execute_result"
    }
   ],
   "source": [
    "df.isnull().values.any()  # True"
   ]
  },
  {
   "cell_type": "markdown",
   "metadata": {},
   "source": [
    "### How many?"
   ]
  },
  {
   "cell_type": "code",
   "execution_count": 30,
   "metadata": {},
   "outputs": [
    {
     "data": {
      "text/plain": [
       "53"
      ]
     },
     "execution_count": 30,
     "metadata": {},
     "output_type": "execute_result"
    }
   ],
   "source": [
    "df.isnull().sum().sum()  # 53"
   ]
  },
  {
   "cell_type": "markdown",
   "metadata": {},
   "source": [
    "### Which columns?"
   ]
  },
  {
   "cell_type": "code",
   "execution_count": 31,
   "metadata": {},
   "outputs": [
    {
     "data": {
      "text/plain": [
       "label             False\n",
       "comment            True\n",
       "author            False\n",
       "subreddit         False\n",
       "score             False\n",
       "ups               False\n",
       "downs             False\n",
       "date              False\n",
       "created_utc       False\n",
       "parent_comment    False\n",
       "dtype: bool"
      ]
     },
     "execution_count": 31,
     "metadata": {},
     "output_type": "execute_result"
    }
   ],
   "source": [
    "df.isnull().any()  # comment col only"
   ]
  },
  {
   "cell_type": "markdown",
   "metadata": {},
   "source": [
    "### How many rows and how many are labeled sarcasm?"
   ]
  },
  {
   "cell_type": "code",
   "execution_count": 34,
   "metadata": {},
   "outputs": [
    {
     "name": "stdout",
     "output_type": "stream",
     "text": [
      "53\n",
      "45\n",
      "0.8490566037735849\n"
     ]
    }
   ],
   "source": [
    "nulls = df[df['comment'].isnull()]  \n",
    "print(len(nulls))\n",
    "nulls_sarc = nulls[nulls['label'] == 1]\n",
    "print(len(nulls_sarc))\n",
    "print(len(nulls_sarc) / len(nulls))"
   ]
  },
  {
   "cell_type": "markdown",
   "metadata": {},
   "source": [
    "Note that in the balanced dataset the incidence of sarcasm for empty comments is 0.85, much higher than the expected value of 0.5 for comments in general. (The incidence of sarcasm in the _unbalanced_ data is < 0.01.)\n",
    "### We will keep the nulls."
   ]
  },
  {
   "cell_type": "markdown",
   "metadata": {},
   "source": [
    "## Balanced test to train ratio"
   ]
  },
  {
   "cell_type": "code",
   "execution_count": null,
   "metadata": {},
   "outputs": [],
   "source": [
    "test_bal_shape / train_bal_shape"
   ]
  },
  {
   "cell_type": "code",
   "execution_count": null,
   "metadata": {},
   "outputs": [],
   "source": []
  },
  {
   "cell_type": "code",
   "execution_count": null,
   "metadata": {},
   "outputs": [],
   "source": []
  },
  {
   "cell_type": "markdown",
   "metadata": {},
   "source": [
    "## Explore test-unbalanced.csv\n",
    "Too large, can't load."
   ]
  },
  {
   "cell_type": "code",
   "execution_count": null,
   "metadata": {},
   "outputs": [],
   "source": []
  },
  {
   "cell_type": "code",
   "execution_count": null,
   "metadata": {},
   "outputs": [],
   "source": [
    "df = pd.read_csv(\"test-unbalanced.csv\", \n",
    "                 sep='\\t', \n",
    "                 header=None, \n",
    "                 names=['label','comment','author','subreddit','score',\n",
    "                        'ups','downs','date','created_utc','parent_comment'])"
   ]
  },
  {
   "cell_type": "code",
   "execution_count": 26,
   "metadata": {
    "collapsed": true
   },
   "outputs": [
    {
     "data": {
      "text/html": [
       "<div>\n",
       "<style scoped>\n",
       "    .dataframe tbody tr th:only-of-type {\n",
       "        vertical-align: middle;\n",
       "    }\n",
       "\n",
       "    .dataframe tbody tr th {\n",
       "        vertical-align: top;\n",
       "    }\n",
       "\n",
       "    .dataframe thead th {\n",
       "        text-align: right;\n",
       "    }\n",
       "</style>\n",
       "<table border=\"1\" class=\"dataframe\">\n",
       "  <thead>\n",
       "    <tr style=\"text-align: right;\">\n",
       "      <th></th>\n",
       "      <th>label</th>\n",
       "      <th>comment</th>\n",
       "      <th>author</th>\n",
       "      <th>subreddit</th>\n",
       "      <th>score</th>\n",
       "      <th>ups</th>\n",
       "      <th>downs</th>\n",
       "      <th>date</th>\n",
       "      <th>created_utc</th>\n",
       "      <th>parent_comment</th>\n",
       "    </tr>\n",
       "  </thead>\n",
       "  <tbody>\n",
       "    <tr>\n",
       "      <th>0</th>\n",
       "      <td>0</td>\n",
       "      <td>NC and NH.</td>\n",
       "      <td>Trumpbart</td>\n",
       "      <td>politics</td>\n",
       "      <td>2</td>\n",
       "      <td>-1</td>\n",
       "      <td>-1</td>\n",
       "      <td>2016-10</td>\n",
       "      <td>1476662123</td>\n",
       "      <td>Yeah, I get that argument. At this point, I'd ...</td>\n",
       "    </tr>\n",
       "    <tr>\n",
       "      <th>1</th>\n",
       "      <td>0</td>\n",
       "      <td>You do know west teams play against west teams...</td>\n",
       "      <td>Shbshb906</td>\n",
       "      <td>nba</td>\n",
       "      <td>-4</td>\n",
       "      <td>-1</td>\n",
       "      <td>-1</td>\n",
       "      <td>2016-11</td>\n",
       "      <td>1477959850</td>\n",
       "      <td>The blazers and Mavericks (The wests 5 and 6 s...</td>\n",
       "    </tr>\n",
       "    <tr>\n",
       "      <th>2</th>\n",
       "      <td>0</td>\n",
       "      <td>They were underdogs earlier today, but since G...</td>\n",
       "      <td>Creepeth</td>\n",
       "      <td>nfl</td>\n",
       "      <td>3</td>\n",
       "      <td>3</td>\n",
       "      <td>0</td>\n",
       "      <td>2016-09</td>\n",
       "      <td>1474580737</td>\n",
       "      <td>They're favored to win.</td>\n",
       "    </tr>\n",
       "    <tr>\n",
       "      <th>3</th>\n",
       "      <td>0</td>\n",
       "      <td>This meme isn't funny none of the \"new york ni...</td>\n",
       "      <td>icebrotha</td>\n",
       "      <td>BlackPeopleTwitter</td>\n",
       "      <td>-8</td>\n",
       "      <td>-1</td>\n",
       "      <td>-1</td>\n",
       "      <td>2016-10</td>\n",
       "      <td>1476824627</td>\n",
       "      <td>deadass don't kill my buzz</td>\n",
       "    </tr>\n",
       "    <tr>\n",
       "      <th>4</th>\n",
       "      <td>0</td>\n",
       "      <td>I could use one of those tools.</td>\n",
       "      <td>cush2push</td>\n",
       "      <td>MaddenUltimateTeam</td>\n",
       "      <td>6</td>\n",
       "      <td>-1</td>\n",
       "      <td>-1</td>\n",
       "      <td>2016-12</td>\n",
       "      <td>1483117213</td>\n",
       "      <td>Yep can confirm I saw the tool they use for th...</td>\n",
       "    </tr>\n",
       "  </tbody>\n",
       "</table>\n",
       "</div>"
      ],
      "text/plain": [
       "   label                                            comment     author  \\\n",
       "0      0                                         NC and NH.  Trumpbart   \n",
       "1      0  You do know west teams play against west teams...  Shbshb906   \n",
       "2      0  They were underdogs earlier today, but since G...   Creepeth   \n",
       "3      0  This meme isn't funny none of the \"new york ni...  icebrotha   \n",
       "4      0                    I could use one of those tools.  cush2push   \n",
       "\n",
       "            subreddit  score  ups  downs     date  created_utc  \\\n",
       "0            politics      2   -1     -1  2016-10   1476662123   \n",
       "1                 nba     -4   -1     -1  2016-11   1477959850   \n",
       "2                 nfl      3    3      0  2016-09   1474580737   \n",
       "3  BlackPeopleTwitter     -8   -1     -1  2016-10   1476824627   \n",
       "4  MaddenUltimateTeam      6   -1     -1  2016-12   1483117213   \n",
       "\n",
       "                                      parent_comment  \n",
       "0  Yeah, I get that argument. At this point, I'd ...  \n",
       "1  The blazers and Mavericks (The wests 5 and 6 s...  \n",
       "2                            They're favored to win.  \n",
       "3                         deadass don't kill my buzz  \n",
       "4  Yep can confirm I saw the tool they use for th...  "
      ]
     },
     "execution_count": 26,
     "metadata": {},
     "output_type": "execute_result"
    }
   ],
   "source": [
    "df.head()"
   ]
  },
  {
   "cell_type": "code",
   "execution_count": 27,
   "metadata": {
    "collapsed": true
   },
   "outputs": [
    {
     "data": {
      "text/plain": [
       "(1010826, 10)"
      ]
     },
     "execution_count": 27,
     "metadata": {},
     "output_type": "execute_result"
    }
   ],
   "source": [
    "test_unbal_shape = df.shape\n",
    "test_unbal_shape"
   ]
  },
  {
   "cell_type": "code",
   "execution_count": 28,
   "metadata": {
    "collapsed": true
   },
   "outputs": [
    {
     "data": {
      "text/html": [
       "<div>\n",
       "<style scoped>\n",
       "    .dataframe tbody tr th:only-of-type {\n",
       "        vertical-align: middle;\n",
       "    }\n",
       "\n",
       "    .dataframe tbody tr th {\n",
       "        vertical-align: top;\n",
       "    }\n",
       "\n",
       "    .dataframe thead th {\n",
       "        text-align: right;\n",
       "    }\n",
       "</style>\n",
       "<table border=\"1\" class=\"dataframe\">\n",
       "  <thead>\n",
       "    <tr style=\"text-align: right;\">\n",
       "      <th></th>\n",
       "      <th>label</th>\n",
       "      <th>score</th>\n",
       "      <th>ups</th>\n",
       "      <th>downs</th>\n",
       "      <th>created_utc</th>\n",
       "    </tr>\n",
       "  </thead>\n",
       "  <tbody>\n",
       "    <tr>\n",
       "      <th>count</th>\n",
       "      <td>1010826.0</td>\n",
       "      <td>1.010826e+06</td>\n",
       "      <td>1.010826e+06</td>\n",
       "      <td>1.010826e+06</td>\n",
       "      <td>1.010826e+06</td>\n",
       "    </tr>\n",
       "    <tr>\n",
       "      <th>mean</th>\n",
       "      <td>0.5</td>\n",
       "      <td>6.885676e+00</td>\n",
       "      <td>5.498885e+00</td>\n",
       "      <td>-1.458629e-01</td>\n",
       "      <td>1.438684e+09</td>\n",
       "    </tr>\n",
       "    <tr>\n",
       "      <th>std</th>\n",
       "      <td>0.5</td>\n",
       "      <td>4.834288e+01</td>\n",
       "      <td>4.127297e+01</td>\n",
       "      <td>3.529689e-01</td>\n",
       "      <td>3.945812e+07</td>\n",
       "    </tr>\n",
       "    <tr>\n",
       "      <th>min</th>\n",
       "      <td>0.0</td>\n",
       "      <td>-5.070000e+02</td>\n",
       "      <td>-5.070000e+02</td>\n",
       "      <td>-1.000000e+00</td>\n",
       "      <td>1.230851e+09</td>\n",
       "    </tr>\n",
       "    <tr>\n",
       "      <th>25%</th>\n",
       "      <td>0.0</td>\n",
       "      <td>1.000000e+00</td>\n",
       "      <td>0.000000e+00</td>\n",
       "      <td>0.000000e+00</td>\n",
       "      <td>1.420734e+09</td>\n",
       "    </tr>\n",
       "    <tr>\n",
       "      <th>50%</th>\n",
       "      <td>0.5</td>\n",
       "      <td>2.000000e+00</td>\n",
       "      <td>1.000000e+00</td>\n",
       "      <td>0.000000e+00</td>\n",
       "      <td>1.448915e+09</td>\n",
       "    </tr>\n",
       "    <tr>\n",
       "      <th>75%</th>\n",
       "      <td>1.0</td>\n",
       "      <td>4.000000e+00</td>\n",
       "      <td>3.000000e+00</td>\n",
       "      <td>0.000000e+00</td>\n",
       "      <td>1.468588e+09</td>\n",
       "    </tr>\n",
       "    <tr>\n",
       "      <th>max</th>\n",
       "      <td>1.0</td>\n",
       "      <td>9.070000e+03</td>\n",
       "      <td>5.163000e+03</td>\n",
       "      <td>0.000000e+00</td>\n",
       "      <td>1.483229e+09</td>\n",
       "    </tr>\n",
       "  </tbody>\n",
       "</table>\n",
       "</div>"
      ],
      "text/plain": [
       "           label         score           ups         downs   created_utc\n",
       "count  1010826.0  1.010826e+06  1.010826e+06  1.010826e+06  1.010826e+06\n",
       "mean         0.5  6.885676e+00  5.498885e+00 -1.458629e-01  1.438684e+09\n",
       "std          0.5  4.834288e+01  4.127297e+01  3.529689e-01  3.945812e+07\n",
       "min          0.0 -5.070000e+02 -5.070000e+02 -1.000000e+00  1.230851e+09\n",
       "25%          0.0  1.000000e+00  0.000000e+00  0.000000e+00  1.420734e+09\n",
       "50%          0.5  2.000000e+00  1.000000e+00  0.000000e+00  1.448915e+09\n",
       "75%          1.0  4.000000e+00  3.000000e+00  0.000000e+00  1.468588e+09\n",
       "max          1.0  9.070000e+03  5.163000e+03  0.000000e+00  1.483229e+09"
      ]
     },
     "execution_count": 28,
     "metadata": {},
     "output_type": "execute_result"
    }
   ],
   "source": [
    "df.describe()"
   ]
  },
  {
   "cell_type": "markdown",
   "metadata": {},
   "source": [
    "### Are there any NA values?"
   ]
  },
  {
   "cell_type": "code",
   "execution_count": 29,
   "metadata": {
    "collapsed": true
   },
   "outputs": [
    {
     "data": {
      "text/plain": [
       "True"
      ]
     },
     "execution_count": 29,
     "metadata": {},
     "output_type": "execute_result"
    }
   ],
   "source": [
    "df.isnull().values.any()  # True"
   ]
  },
  {
   "cell_type": "markdown",
   "metadata": {},
   "source": [
    "### How many?"
   ]
  },
  {
   "cell_type": "code",
   "execution_count": 30,
   "metadata": {
    "collapsed": true
   },
   "outputs": [
    {
     "data": {
      "text/plain": [
       "53"
      ]
     },
     "execution_count": 30,
     "metadata": {},
     "output_type": "execute_result"
    }
   ],
   "source": [
    "df.isnull().sum().sum()  # 53"
   ]
  },
  {
   "cell_type": "markdown",
   "metadata": {},
   "source": [
    "### Which columns?"
   ]
  },
  {
   "cell_type": "code",
   "execution_count": 31,
   "metadata": {
    "collapsed": true
   },
   "outputs": [
    {
     "data": {
      "text/plain": [
       "label             False\n",
       "comment            True\n",
       "author            False\n",
       "subreddit         False\n",
       "score             False\n",
       "ups               False\n",
       "downs             False\n",
       "date              False\n",
       "created_utc       False\n",
       "parent_comment    False\n",
       "dtype: bool"
      ]
     },
     "execution_count": 31,
     "metadata": {},
     "output_type": "execute_result"
    }
   ],
   "source": [
    "df.isnull().any()  # comment col only"
   ]
  },
  {
   "cell_type": "markdown",
   "metadata": {},
   "source": [
    "### How many rows and how many are labeled sarcasm?"
   ]
  },
  {
   "cell_type": "code",
   "execution_count": 34,
   "metadata": {
    "collapsed": true
   },
   "outputs": [
    {
     "name": "stdout",
     "output_type": "stream",
     "text": [
      "53\n",
      "45\n",
      "0.8490566037735849\n"
     ]
    }
   ],
   "source": [
    "nulls = df[df['comment'].isnull()]  \n",
    "print(len(nulls))\n",
    "nulls_sarc = nulls[nulls['label'] == 1]\n",
    "print(len(nulls_sarc))\n",
    "print(len(nulls_sarc) / len(nulls))"
   ]
  },
  {
   "cell_type": "markdown",
   "metadata": {},
   "source": [
    "Note that in the balanced dataset the incidence of sarcasm for empty comments is 0.85, much higher than the expected value of 0.5 for comments in general. (The incidence of sarcasm in the _unbalanced_ data is < 0.01.)\n",
    "### We will keep the nulls."
   ]
  },
  {
   "cell_type": "markdown",
   "metadata": {},
   "source": [
    "## Unbalanced test to train ratio\n",
    "Assuming that the ratio is similar to that for the balanced train/test data:"
   ]
  },
  {
   "cell_type": "code",
   "execution_count": null,
   "metadata": {},
   "outputs": [],
   "source": [
    "print(\"train_unbal_shape\")\n",
    "\n",
    "test_unbal_shape[0] / train_unbal_shape[0]"
   ]
  }
 ],
 "metadata": {
  "kernelspec": {
   "display_name": "Python 3",
   "language": "python",
   "name": "python3"
  },
  "language_info": {
   "codemirror_mode": {
    "name": "ipython",
    "version": 3
   },
   "file_extension": ".py",
   "mimetype": "text/x-python",
   "name": "python",
   "nbconvert_exporter": "python",
   "pygments_lexer": "ipython3",
   "version": "3.7.3"
  }
 },
 "nbformat": 4,
 "nbformat_minor": 2
}
